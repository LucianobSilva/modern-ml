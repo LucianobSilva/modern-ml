{
 "cells": [
  {
   "cell_type": "code",
   "execution_count": 1,
   "metadata": {},
   "outputs": [],
   "source": [
    "%load_ext autoreload\n",
    "%autoreload 2\n",
    "import os\n",
    "import gc\n",
    "\n",
    "os.chdir('../../')"
   ]
  },
  {
   "cell_type": "code",
   "execution_count": 2,
   "metadata": {},
   "outputs": [
    {
     "name": "stderr",
     "output_type": "stream",
     "text": [
      "/Users/marcus.silva/Code/modern-ml/.venv/lib/python3.11/site-packages/tqdm/auto.py:21: TqdmWarning: IProgress not found. Please update jupyter and ipywidgets. See https://ipywidgets.readthedocs.io/en/stable/user_install.html\n",
      "  from .autonotebook import tqdm as notebook_tqdm\n"
     ]
    }
   ],
   "source": [
    "import pandas as pd\n",
    "import numpy as np\n",
    "from catboost import CatBoostClassifier\n",
    "from sklearn.metrics import log_loss, roc_auc_score, average_precision_score, brier_score_loss, precision_recall_curve\n",
    "from sklearn.calibration import calibration_curve, CalibratedClassifierCV\n",
    "from sklearn.inspection import permutation_importance\n",
    "from sklearn.model_selection import train_test_split\n",
    "import matplotlib.pyplot as plt\n",
    "import seaborn as sns\n",
    "from global_code.util import reduce_mem_usage, clf_metric_report, compute_and_plot_permutation_importance, plot_pr_calib_curve, plot_dis_probs, plot_shap_values\n",
    "import optuna\n",
    "import arfs.feature_selection.allrelevant as arfsgroot\n",
    "import shap\n",
    "import json\n",
    "import joblib\n",
    "\n",
    "sns.set(style='whitegrid')"
   ]
  },
  {
   "cell_type": "markdown",
   "metadata": {},
   "source": [
    "### Read the parquet file located at `./week_1/data/processed/feature_engineering_dataset.parquet`"
   ]
  },
  {
   "cell_type": "code",
   "execution_count": 3,
   "metadata": {},
   "outputs": [
    {
     "name": "stdout",
     "output_type": "stream",
     "text": [
      "<class 'pandas.core.frame.DataFrame'>\n",
      "Index: 5286530 entries, 2961532 to 5286529\n",
      "Columns: 159 entries, Id to churn_18_months\n",
      "dtypes: bool(1), category(2), datetime64[ns](2), float16(93), float32(37), int16(5), int32(3), int8(15), object(1)\n",
      "memory usage: 2.0+ GB\n"
     ]
    }
   ],
   "source": [
    "df = pd.read_parquet('./week_1/data/processed/feature_engineering_dataset.parquet')\n",
    "non_features_list = ['customer_id','name','date_of_birth','address','touchpoints','csat_scores','Usage','churn','next_date','days_diff', 'job']\n",
    "df = df.drop(non_features_list, axis=1)\n",
    "df.info()           "
   ]
  },
  {
   "cell_type": "markdown",
   "metadata": {},
   "source": [
    "### Train, Validation, Test Split"
   ]
  },
  {
   "cell_type": "code",
   "execution_count": 4,
   "metadata": {},
   "outputs": [
    {
     "name": "stdout",
     "output_type": "stream",
     "text": [
      "Train Shape:  (306649, 153)\n",
      "Validation shape:  (70878, 153)\n",
      "Calibration shape:  (283510, 153)\n"
     ]
    }
   ],
   "source": [
    "# target - Inactivity 365 days \n",
    "#train_max_date = '2022-01-01'\n",
    "#validation_max_date = '2023-01-01'\n",
    "#test_start_date = '2024-01-01'\n",
    "#target = 'churn_365'\n",
    "\n",
    "# target - no activity after 2022-06-01\n",
    "#train_max_date = '2019-06-01'\n",
    "#validation_max_date = '2022-06-01'\n",
    "#test_start_date = '2024-01-01'\n",
    "#target = 'churn_18_months'\n",
    "\n",
    "# target - Inactivity >= 420 days target\n",
    "train_max_date = '2021-10-01'\n",
    "validation_max_date = '2022-10-01'\n",
    "test_start_date = '2024-01-01'\n",
    "target = 'churn_420'\n",
    "\n",
    "\n",
    "# PROMPT: break this list in lines, add comments to group the features in categories\n",
    "features = [\n",
    "    # Basic customer information\n",
    "    \"interest_rate\", \"country\", \"customer_age\", \"broad_job_category\", \"tenure\", \"from_competitor\",\n",
    "    \n",
    "    # Transaction counts\n",
    "    \"atm_transfer_in\", \"atm_transfer_out\", \"bank_transfer_in\", \"bank_transfer_out\", \n",
    "    \"crypto_in\", \"crypto_out\",\n",
    "    \n",
    "    # Transaction volumes\n",
    "    \"bank_transfer_in_volume\", \"bank_transfer_out_volume\",\n",
    "    \"crypto_in_volume\", \"crypto_out_volume\",\n",
    "    \n",
    "    # Customer service and interactions\n",
    "    \"complaints\", \"churn_due_to_fraud\", \"model_predicted_fraud\",\n",
    "    \"appointment\", \"email\", \"phone\", \"whatsapp\", \"days_between\",\n",
    "    \n",
    "    # Historical interaction metrics\n",
    "    \"prior_emails\", \"prior_appointments\", \"prior_phones\", \"prior_whatsapps\",\n",
    "    \"prior_touchpoints\", \"prior_count\",\n",
    "    \n",
    "    # Historical balance and transaction metrics\n",
    "    \"prior_crypto_balance\", \"prior_bank_balance\", \"prior_mean_balance\",\n",
    "    \"prior_sum_days_between\", \"prior_std_days_between\", \"prior_mean_days_between\",\n",
    "    \"prior_min_days_between\", \"prior_max_days_between\",\n",
    "    \n",
    "    # Prior mean transaction metrics\n",
    "    \"prior_mean_bank_transfer_in\", \"prior_mean_bank_transfer_out\",\n",
    "    \"prior_mean_crypto_in\", \"prior_mean_crypto_out\",\n",
    "    \"prior_mean_bank_transfer_in_volume\", \"prior_mean_bank_transfer_out_volume\",\n",
    "    \"prior_mean_crypto_in_volume\", \"prior_mean_crypto_out_volume\",\n",
    "    \n",
    "    # Prior sum volume metrics\n",
    "    \"prior_sum_bank_transfer_in_volume\", \"prior_sum_bank_transfer_out_volume\",\n",
    "    \"prior_sum_crypto_in_volume\", \"prior_sum_crypto_out_volume\",\n",
    "    \n",
    "    # 10-day window metrics\n",
    "    \"prior_10D_count\", \"prior_10D_sum_days_between\", \"prior_10D_mean_days_between\",\n",
    "    \"prior_10D_std_days_between\", \"prior_10D_max_days_between\", \"prior_10D_min_days_between\",\n",
    "    \"prior_10D_mean_bank_transfer_in\", \"prior_10D_mean_bank_transfer_out\",\n",
    "    \"prior_10D_mean_crypto_in\", \"prior_10D_mean_crypto_out\",\n",
    "    \"prior_10D_mean_bank_transfer_in_volume\", \"prior_10D_mean_bank_transfer_out_volume\",\n",
    "    \"prior_10D_mean_crypto_in_volume\", \"prior_10D_mean_crypto_out_volume\",\n",
    "    \"prior_10D_sum_bank_transfer_in_volume\", \"prior_10D_sum_bank_transfer_out_volume\",\n",
    "    \"prior_10D_sum_crypto_in_volume\", \"prior_10D_sum_crypto_out_volume\",\n",
    "    \"prior_10D_bank_balance\", \"prior_10D_mean_balance\",\n",
    "    \n",
    "    # 90-day window metrics\n",
    "    \"prior_90D_count\", \"prior_90D_sum_days_between\", \"prior_90D_mean_days_between\",\n",
    "    \"prior_90D_std_days_between\", \"prior_90D_max_days_between\", \"prior_90D_min_days_between\",\n",
    "    \"prior_90D_mean_bank_transfer_in\", \"prior_90D_mean_bank_transfer_out\",\n",
    "    \"prior_90D_mean_crypto_in\", \"prior_90D_mean_crypto_out\",\n",
    "    \"prior_90D_mean_bank_transfer_in_volume\", \"prior_90D_mean_bank_transfer_out_volume\",\n",
    "    \"prior_90D_mean_crypto_in_volume\", \"prior_90D_mean_crypto_out_volume\",\n",
    "    \"prior_90D_sum_bank_transfer_in_volume\", \"prior_90D_sum_bank_transfer_out_volume\",\n",
    "    \"prior_90D_sum_crypto_in_volume\", \"prior_90D_sum_crypto_out_volume\",\n",
    "    \"prior_90D_bank_balance\", \"prior_90D_mean_balance\",\n",
    "    \n",
    "    # 180-day window metrics\n",
    "    \"prior_180D_count\", \"prior_180D_sum_days_between\", \"prior_180D_mean_days_between\",\n",
    "    \"prior_180D_std_days_between\", \"prior_180D_max_days_between\", \"prior_180D_min_days_between\",\n",
    "    \"prior_180D_mean_bank_transfer_in\", \"prior_180D_mean_bank_transfer_out\",\n",
    "    \"prior_180D_mean_crypto_in\", \"prior_180D_mean_crypto_out\",\n",
    "    \"prior_180D_mean_bank_transfer_in_volume\", \"prior_180D_mean_bank_transfer_out_volume\",\n",
    "    \"prior_180D_mean_crypto_in_volume\", \"prior_180D_mean_crypto_out_volume\",\n",
    "    \"prior_180D_sum_bank_transfer_in_volume\", \"prior_180D_sum_bank_transfer_out_volume\",\n",
    "    \"prior_180D_sum_crypto_in_volume\", \"prior_180D_sum_crypto_out_volume\",\n",
    "    \"prior_180D_bank_balance\", \"prior_180D_mean_balance\",\n",
    "    \n",
    "    # 365-day window metrics\n",
    "    \"prior_365D_count\", \"prior_365D_sum_days_between\", \"prior_365D_mean_days_between\",\n",
    "    \"prior_365D_std_days_between\", \"prior_365D_max_days_between\", \"prior_365D_min_days_between\",\n",
    "    \"prior_365D_mean_bank_transfer_in\", \"prior_365D_mean_bank_transfer_out\",\n",
    "    \"prior_365D_mean_crypto_in\", \"prior_365D_mean_crypto_out\",\n",
    "    \"prior_365D_mean_bank_transfer_in_volume\", \"prior_365D_mean_bank_transfer_out_volume\",\n",
    "    \"prior_365D_mean_crypto_in_volume\", \"prior_365D_mean_crypto_out_volume\",\n",
    "    \"prior_365D_sum_bank_transfer_in_volume\", \"prior_365D_sum_bank_transfer_out_volume\",\n",
    "    \"prior_365D_sum_crypto_in_volume\", \"prior_365D_sum_crypto_out_volume\",\n",
    "    \"prior_365D_bank_balance\", \"prior_365D_mean_balance\",\n",
    "    \n",
    "    # 450-day window metrics\n",
    "    \"prior_450D_count\", \"prior_450D_sum_days_between\", \"prior_450D_mean_days_between\",\n",
    "    \"prior_450D_std_days_between\", \"prior_450D_max_days_between\", \"prior_450D_min_days_between\",\n",
    "    \"prior_450D_mean_bank_transfer_in\", \"prior_450D_mean_bank_transfer_out\",\n",
    "    \"prior_450D_mean_crypto_in\", \"prior_450D_mean_crypto_out\",\n",
    "    \"prior_450D_mean_bank_transfer_in_volume\", \"prior_450D_mean_bank_transfer_out_volume\",\n",
    "    \"prior_450D_mean_crypto_in_volume\", \"prior_450D_mean_crypto_out_volume\",\n",
    "    \"prior_450D_sum_bank_transfer_in_volume\", \"prior_450D_sum_bank_transfer_out_volume\",\n",
    "    \"prior_450D_sum_crypto_in_volume\", \"prior_450D_sum_crypto_out_volume\",\n",
    "    \"prior_450D_bank_balance\", \"prior_450D_mean_balance\",\n",
    "    \n",
    "    # Current week metrics\n",
    "    \"this_week_bank_volume\", \"this_week_crypto_volume\"\n",
    "]\n",
    "\n",
    "train_df = df.loc[df['date'] < train_max_date, features + [target]]\n",
    "validation_df = df.loc[(df['date'] >= train_max_date) & (df['date'] < validation_max_date), features + [target]]\n",
    "\n",
    "# Get Train and Validation Subsamples to speed up the process\n",
    "_, train_df = train_test_split(train_df, test_size=0.10, random_state=42, stratify=train_df[target])\n",
    "validation_df, calibration_df = train_test_split(validation_df, test_size=0.20, random_state=42, stratify=validation_df[target])\n",
    "\n",
    "print('Train Shape: ', train_df.shape)\n",
    "print('Validation shape: ', calibration_df.shape)\n",
    "print('Calibration shape: ', validation_df.shape)"
   ]
  },
  {
   "cell_type": "code",
   "execution_count": 5,
   "metadata": {},
   "outputs": [],
   "source": [
    "# Save training data\n",
    "train_df.to_parquet('./week_1/data/processed/train_df.parquet')\n",
    "\n",
    "# Save validation data\n",
    "validation_df.to_parquet('./week_1/data/processed/validation_df.parquet')\n",
    "\n",
    "# Save calibration data\n",
    "calibration_df.to_parquet('./week_1/data/processed/calibration_df.parquet')\n"
   ]
  }
 ],
 "metadata": {
  "kernelspec": {
   "display_name": ".venv",
   "language": "python",
   "name": "python3"
  },
  "language_info": {
   "codemirror_mode": {
    "name": "ipython",
    "version": 3
   },
   "file_extension": ".py",
   "mimetype": "text/x-python",
   "name": "python",
   "nbconvert_exporter": "python",
   "pygments_lexer": "ipython3",
   "version": "3.11.7"
  }
 },
 "nbformat": 4,
 "nbformat_minor": 2
}
